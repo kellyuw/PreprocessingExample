{
 "cells": [
  {
   "cell_type": "code",
   "execution_count": null,
   "metadata": {
    "collapsed": true
   },
   "outputs": [],
   "source": [
    "## Make Simpsons EV files\n",
    "def FindSimpsons (data, runData):\n",
    "\n",
    "    rData = data[(data['ProcedureBlock'] == runData['RunName'])]\n",
    "    #print rData.shape\n",
    "\n",
    "    #Check here for columns that contain a SimpsonOnsetTime\n",
    "    if runData['Task'] != 'GNG':\n",
    "        if runData['Task'] == 'WMShapes' or runData['Task'] == 'WMFaces':\n",
    "            for OnsetTime in rData.filter(like=\"FlandersOnsetTime\").columns.values:\n",
    "                SimpsonChar = OnsetTime.split('Flanders')[0]\n",
    "                SimpsonCharOnsetStr = SimpsonChar + 'FlandersOnsetTime'\n",
    "                SimpsonCharOnsetToOnsetStr = SimpsonChar + 'FlandersOnsetToOnsetTime'\n",
    "                \n",
    "        else:\n",
    "            for OnsetTime in rData.filter(like=\"SimpsonOnsetTime\").columns.values:\n",
    "                SimpsonChar = OnsetTime.split('Simpson')[0]\n",
    "                SimpsonCharOnsetStr = SimpsonChar + 'SimpsonOnsetTime'\n",
    "                SimpsonCharOnsetToOnsetStr = SimpsonChar + 'SimpsonOnsetToOnsetTime'\n",
    "        \n",
    "\n",
    "        #Simpson onset is all rows where SimpsonCharOnsetTime > 0\n",
    "        SimpsonLoc = rData[(rData[SimpsonCharOnsetStr] > 0)]\n",
    "        SimpsonOnsetTime = (SimpsonLoc[SimpsonCharOnsetStr] - SimpsonLoc['TriggerWAITRTTimeBlock']) / float(1000)\n",
    "            \n",
    "        #Simpson OnsetToOnsetTime is equal to duration\n",
    "        SimpsonDuration = SimpsonLoc[SimpsonCharOnsetToOnsetStr] / float(1000)\n",
    "            \n",
    "        #Make values into strings\n",
    "        Onset = \"\".join([str(x) for x in SimpsonOnsetTime])\n",
    "        Duration = \"\".join([str(x) for x in SimpsonDuration])\n",
    "            \n",
    "        #Write 3-column EV file with information about Simpsons ITI onset, duration, and strength (1)\n",
    "        OutName = str(runData['FullTaskDir'] + '_Simpson.txt')\n",
    "        if (not SimpsonLoc.empty):\n",
    "            OutputFile = open(OutName, \"w\")\n",
    "            writer = csv.writer(OutputFile, delimiter=' ')\n",
    "            writer.writerow([Onset,Duration,str(1)])\n",
    "            OutputFile.close()\n",
    "        else:\n",
    "            OutName = str(os.path.dirname(OutName) + '/' + os.path.basename(OutName).split('.txt')[0] + '-EMPTY.txt')\n",
    "            Touch(OutName)\n",
    "        print '\\n'\n",
    "\n",
    "    return data"
   ]
  }
 ],
 "metadata": {
  "kernelspec": {
   "display_name": "Python 2",
   "language": "python",
   "name": "python2"
  },
  "language_info": {
   "codemirror_mode": {
    "name": "ipython",
    "version": 2
   },
   "file_extension": ".py",
   "mimetype": "text/x-python",
   "name": "python",
   "nbconvert_exporter": "python",
   "pygments_lexer": "ipython2",
   "version": "2.7.11"
  }
 },
 "nbformat": 4,
 "nbformat_minor": 0
}
