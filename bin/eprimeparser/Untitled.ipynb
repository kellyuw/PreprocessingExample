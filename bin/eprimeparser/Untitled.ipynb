{
 "cells": [
  {
   "cell_type": "code",
   "execution_count": 132,
   "metadata": {
    "collapsed": false
   },
   "outputs": [
    {
     "name": "stdout",
     "output_type": "stream",
     "text": [
      "numMatches = 0\n",
      "numMatches = 1\n",
      "59    164997.0\n",
      "dtype: float64\n",
      "59    10.016\n",
      "Name: NedSimpsonOnsetToOnsetTime, dtype: float64\n",
      "59    175013.0\n",
      "dtype: float64\n",
      "59    0.999\n",
      "Name: MargeSimpsonOnsetToOnsetTime, dtype: float64\n",
      "59    176012.0\n",
      "dtype: float64\n",
      "59    0.0\n",
      "Name: RodSimpsonOnsetToOnsetTime, dtype: float64\n",
      "numMatches = 0\n",
      "numMatches = 1\n",
      "43    60013.0\n",
      "dtype: float64\n",
      "43    4.0\n",
      "Name: TodSimpsonOnsetToOnsetTime, dtype: float64\n",
      "43    64013.0\n",
      "dtype: float64\n",
      "43    1.0\n",
      "Name: LisaSimpsonOnsetToOnsetTime, dtype: float64\n",
      "43    65013.0\n",
      "dtype: float64\n",
      "43    0.0\n",
      "Name: BazSimpsonOnsetToOnsetTime, dtype: float64\n"
     ]
    }
   ],
   "source": [
    "## Python dependencies\n",
    "import pandas as pd\n",
    "import numpy as np\n",
    "import argparse\n",
    "import csv\n",
    "import os\n",
    "import re\n",
    "\n",
    "#SimpsonLoc = np.where(data['MaggieSimpsonOnsetTime'] > 0)\n",
    "#print SimpsonLoc\n",
    "#SimpsonOnset = (data[SimpsonLoc]['MaggieSimpsonOnsetTime']-data[SimpsonLoc]['TriggerWAITRTTimeBlock'])/float(1000)\n",
    "#SimpsonDuration = data[SimpsonLoc]['MaggieSimpsonOnsetToOnsetTime']/float(1000)\n",
    "#print str(SimpsonOnset[0]) + str(SimpsonDuration[0]) + str(1)\n",
    "\n",
    "subject = '999'\n",
    "SubjectDir = '/mnt/stressdevlab/dep_threat_pipeline/' + str(subject) + '/'\n",
    "\n",
    "## Check if image file exists and return helpful information about the run\n",
    "def GetRunData (Run):\n",
    "    Task = filter(lambda x: x.isalpha(), Run)\n",
    "    RunNum = str(re.findall('\\d+', str(Run)))[2]\n",
    "    FullTaskDir = str(SubjectDir) + Task.lower() + '/' + Run\n",
    "    runData = {'RunNum': str(RunNum), \n",
    "               'Run': str(Run), \n",
    "               'RunName': Task + 'Run' + RunNum, \n",
    "               'Task': Task,\n",
    "               'FullTaskDir': str(FullTaskDir),\n",
    "               'ImageFileExists': str(os.path.exists(str(FullTaskDir + '.nii.gz')))}\n",
    "    return runData\n",
    "\n",
    "\n",
    "## Make Simpsons EV files\n",
    "def FindSimpsons (data, runData):\n",
    "    rData = data[(data['ProcedureBlock'] == runData['RunName'])]\n",
    "    data = rData[rData['ProcedureTrial'].str.contains('Simpson')]\n",
    "    print 'numMatches = ' + str(data.shape[0])\n",
    "    \n",
    "    for OnsetTime in data.filter(like=\"SimpsonOnsetTime\").columns.values:\n",
    "        SimpsonChar = OnsetTime.split('SimpsonOnsetTime')[0]\n",
    "        SimpsonOnsetStr = SimpsonChar + 'SimpsonOnsetTime'\n",
    "        SimpsonDurationStr = SimpsonChar + 'SimpsonOnsetToOnsetTime'\n",
    "                \n",
    "        if data[OnsetTime].any():\n",
    "            SimpsonOnset = data[OnsetTime] - data['TriggerWAITRTTimeBlock']\n",
    "            SimpsonDuration = data[SimpsonDurationStr] / float(1000)\n",
    "       \n",
    "            print SimpsonOnset\n",
    "            print SimpsonDuration\n",
    "            \n",
    "for runname in ['WMShapes1','WMShapes2','WMFaces1','WMFaces2']:\n",
    "    runData = GetRunData(runname)\n",
    "    data = pd.read_csv(str(SubjectDir) + 'behavior/' + runData['Task'] + '-eprime.csv')\n",
    "    noSimData = FindSimpsons(data, runData)\n",
    "    #ParseWM(noSimData, runData)\n",
    "    #Touch(str(runData['FullTaskDir'] + 'Onsets.txt'))"
   ]
  },
  {
   "cell_type": "code",
   "execution_count": 4,
   "metadata": {
    "collapsed": false
   },
   "outputs": [
    {
     "ename": "NameError",
     "evalue": "global name 're' is not defined",
     "output_type": "error",
     "traceback": [
      "\u001b[1;31m---------------------------------------------------------------------------\u001b[0m",
      "\u001b[1;31mNameError\u001b[0m                                 Traceback (most recent call last)",
      "\u001b[1;32m<ipython-input-4-4ab87b31613c>\u001b[0m in \u001b[0;36m<module>\u001b[1;34m()\u001b[0m\n\u001b[0;32m      1\u001b[0m \u001b[1;32mfor\u001b[0m \u001b[0mrunname\u001b[0m \u001b[1;32min\u001b[0m \u001b[1;33m[\u001b[0m\u001b[1;34m'WMShapes1'\u001b[0m\u001b[1;33m,\u001b[0m\u001b[1;34m'WMShapes2'\u001b[0m\u001b[1;33m,\u001b[0m\u001b[1;34m'WMFaces1'\u001b[0m\u001b[1;33m,\u001b[0m\u001b[1;34m'WMFaces2'\u001b[0m\u001b[1;33m]\u001b[0m\u001b[1;33m:\u001b[0m\u001b[1;33m\u001b[0m\u001b[0m\n\u001b[1;32m----> 2\u001b[1;33m     \u001b[0mrunData\u001b[0m \u001b[1;33m=\u001b[0m \u001b[0mGetRunData\u001b[0m\u001b[1;33m(\u001b[0m\u001b[0mrunname\u001b[0m\u001b[1;33m)\u001b[0m\u001b[1;33m\u001b[0m\u001b[0m\n\u001b[0m\u001b[0;32m      3\u001b[0m     \u001b[0mdata\u001b[0m \u001b[1;33m=\u001b[0m \u001b[0mpd\u001b[0m\u001b[1;33m.\u001b[0m\u001b[0mread_csv\u001b[0m\u001b[1;33m(\u001b[0m\u001b[0mstr\u001b[0m\u001b[1;33m(\u001b[0m\u001b[0mSubjectDir\u001b[0m\u001b[1;33m)\u001b[0m \u001b[1;33m+\u001b[0m \u001b[1;34m'behavior/'\u001b[0m \u001b[1;33m+\u001b[0m \u001b[0mrunData\u001b[0m\u001b[1;33m[\u001b[0m\u001b[1;34m'Task'\u001b[0m\u001b[1;33m]\u001b[0m \u001b[1;33m+\u001b[0m \u001b[1;34m'-eprime.csv'\u001b[0m\u001b[1;33m)\u001b[0m\u001b[1;33m\u001b[0m\u001b[0m\n\u001b[0;32m      4\u001b[0m     \u001b[0mnoSimData\u001b[0m \u001b[1;33m=\u001b[0m \u001b[0mFindSimpsons\u001b[0m\u001b[1;33m(\u001b[0m\u001b[0mdata\u001b[0m\u001b[1;33m,\u001b[0m \u001b[0mrunData\u001b[0m\u001b[1;33m)\u001b[0m\u001b[1;33m\u001b[0m\u001b[0m\n\u001b[0;32m      5\u001b[0m     \u001b[1;31m#ParseWM(noSimData, runData)\u001b[0m\u001b[1;33m\u001b[0m\u001b[1;33m\u001b[0m\u001b[0m\n",
      "\u001b[1;32m<ipython-input-3-df2334b230f6>\u001b[0m in \u001b[0;36mGetRunData\u001b[1;34m(Run)\u001b[0m\n\u001b[0;32m     11\u001b[0m \u001b[1;32mdef\u001b[0m \u001b[0mGetRunData\u001b[0m \u001b[1;33m(\u001b[0m\u001b[0mRun\u001b[0m\u001b[1;33m)\u001b[0m\u001b[1;33m:\u001b[0m\u001b[1;33m\u001b[0m\u001b[0m\n\u001b[0;32m     12\u001b[0m     \u001b[0mTask\u001b[0m \u001b[1;33m=\u001b[0m \u001b[0mfilter\u001b[0m\u001b[1;33m(\u001b[0m\u001b[1;32mlambda\u001b[0m \u001b[0mx\u001b[0m\u001b[1;33m:\u001b[0m \u001b[0mx\u001b[0m\u001b[1;33m.\u001b[0m\u001b[0misalpha\u001b[0m\u001b[1;33m(\u001b[0m\u001b[1;33m)\u001b[0m\u001b[1;33m,\u001b[0m \u001b[0mRun\u001b[0m\u001b[1;33m)\u001b[0m\u001b[1;33m\u001b[0m\u001b[0m\n\u001b[1;32m---> 13\u001b[1;33m     \u001b[0mRunNum\u001b[0m \u001b[1;33m=\u001b[0m \u001b[0mstr\u001b[0m\u001b[1;33m(\u001b[0m\u001b[0mre\u001b[0m\u001b[1;33m.\u001b[0m\u001b[0mfindall\u001b[0m\u001b[1;33m(\u001b[0m\u001b[1;34m'\\d+'\u001b[0m\u001b[1;33m,\u001b[0m \u001b[0mstr\u001b[0m\u001b[1;33m(\u001b[0m\u001b[0mRun\u001b[0m\u001b[1;33m)\u001b[0m\u001b[1;33m)\u001b[0m\u001b[1;33m)\u001b[0m\u001b[1;33m[\u001b[0m\u001b[1;36m2\u001b[0m\u001b[1;33m]\u001b[0m\u001b[1;33m\u001b[0m\u001b[0m\n\u001b[0m\u001b[0;32m     14\u001b[0m     \u001b[0mFullTaskDir\u001b[0m \u001b[1;33m=\u001b[0m \u001b[0mstr\u001b[0m\u001b[1;33m(\u001b[0m\u001b[0mSubjectDir\u001b[0m\u001b[1;33m)\u001b[0m \u001b[1;33m+\u001b[0m \u001b[0mTask\u001b[0m\u001b[1;33m.\u001b[0m\u001b[0mlower\u001b[0m\u001b[1;33m(\u001b[0m\u001b[1;33m)\u001b[0m \u001b[1;33m+\u001b[0m \u001b[1;34m'/'\u001b[0m \u001b[1;33m+\u001b[0m \u001b[0mRun\u001b[0m\u001b[1;33m\u001b[0m\u001b[0m\n\u001b[0;32m     15\u001b[0m     runData = {'RunNum': str(RunNum), \n",
      "\u001b[1;31mNameError\u001b[0m: global name 're' is not defined"
     ]
    }
   ],
   "source": [
    "\n",
    "    if runData['Task'] != 'GNG':\n",
    "        itiRows = \n",
    "        \n",
    "        #Check here for columns that contain a SimpsonOnsetTime\n",
    "        for OnsetTime in rData.filter(like=\"SimpsonOnsetTime\").columns.values:\n",
    "            \n",
    "            \n",
    "            #print runData['RunName'] + ' ' + OnsetTime\n",
    "            SimpsonChar = OnsetTime.split('Simpson')[0]\n",
    "            SimpsonCharOnsetStr = SimpsonChar + 'SimpsonOnsetTime'\n",
    "            SimpsonCharOnsetToOnsetStr = SimpsonChar + 'SimpsonOnsetToOnsetTime'\n",
    "\n",
    "            #Simpson onset is all rows where SimpsonCharOnsetTime > 0\n",
    "            SimpsonLoc = rData[(rData[SimpsonCharOnsetStr] > 0)]\n",
    "            SimpsonOnsetTime = (SimpsonLoc[SimpsonCharOnsetStr] - SimpsonLoc['TriggerWAITRTTimeBlock']) / float(1000)\n",
    "            print runData['Task'] + ' ' + str(SimpsonOnsetTime)\n",
    "            #Simpson OnsetToOnsetTime is equal to duration\n",
    "            SimpsonDuration = SimpsonLoc[SimpsonCharOnsetToOnsetStr] / float(1000)\n",
    "            print runData['Task'] + ' ' + str(SimpsonDuration)\n",
    "            \n",
    "            #Make values into strings\n",
    "            #Onset = \"\".join([str(x) for x in SimpsonOnsetTime])\n",
    "            #Duration = \"\".join([str(x) for x in SimpsonDuration])\n",
    "                \n",
    "            #Append to array\n",
    "            #SimpsonOnsets.append(SimpsonOnsetTime)\n",
    "            #SimpsonDurations.append(SimpsonDuration)\n",
    "                \n",
    "            #Write 3-column EV file with information about Simpsons ITI onset, duration, and strength (1)\n",
    "            #OutName = str(runData['FullTaskDir'] + '_Simpson.txt')\n",
    "            #if (not SimpsonLoc.empty):\n",
    "                #OutputFile = open(OutName, \"w\")\n",
    "                #writer = csv.writer(OutputFile, delimiter=' ')\n",
    "                #writer.writerow([Onset,Duration,str(1)])\n",
    "                #OutputFile.close()\n",
    "            #else:\n",
    "                #OutName = str(os.path.dirname(OutName) + '/' + os.path.basename(OutName).split('.txt')[0] + '-EMPTY.txt')\n",
    "                #Touch(OutName)\n",
    "            #print '\\n'\n",
    "\n",
    "    return data"
   ]
  },
  {
   "cell_type": "code",
   "execution_count": null,
   "metadata": {
    "collapsed": true
   },
   "outputs": [],
   "source": []
  }
 ],
 "metadata": {
  "kernelspec": {
   "display_name": "Python 2",
   "language": "python",
   "name": "python2"
  },
  "language_info": {
   "codemirror_mode": {
    "name": "ipython",
    "version": 2
   },
   "file_extension": ".py",
   "mimetype": "text/x-python",
   "name": "python",
   "nbconvert_exporter": "python",
   "pygments_lexer": "ipython2",
   "version": "2.7.11"
  }
 },
 "nbformat": 4,
 "nbformat_minor": 0
}
